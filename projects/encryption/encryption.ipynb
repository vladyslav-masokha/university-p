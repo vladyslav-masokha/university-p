{
 "cells": [
  {
   "cell_type": "code",
   "execution_count": 1,
   "metadata": {},
   "outputs": [
    {
     "name": "stdout",
     "output_type": "stream",
     "text": [
      "Requirement already satisfied: ipywidgets in ./.venv/lib/python3.12/site-packages (8.1.2)\n",
      "Requirement already satisfied: comm>=0.1.3 in ./.venv/lib/python3.12/site-packages (from ipywidgets) (0.2.2)\n",
      "Requirement already satisfied: ipython>=6.1.0 in ./.venv/lib/python3.12/site-packages (from ipywidgets) (8.24.0)\n",
      "Requirement already satisfied: traitlets>=4.3.1 in ./.venv/lib/python3.12/site-packages (from ipywidgets) (5.14.3)\n",
      "Requirement already satisfied: widgetsnbextension~=4.0.10 in ./.venv/lib/python3.12/site-packages (from ipywidgets) (4.0.10)\n",
      "Requirement already satisfied: jupyterlab-widgets~=3.0.10 in ./.venv/lib/python3.12/site-packages (from ipywidgets) (3.0.10)\n",
      "Requirement already satisfied: decorator in ./.venv/lib/python3.12/site-packages (from ipython>=6.1.0->ipywidgets) (5.1.1)\n",
      "Requirement already satisfied: jedi>=0.16 in ./.venv/lib/python3.12/site-packages (from ipython>=6.1.0->ipywidgets) (0.19.1)\n",
      "Requirement already satisfied: matplotlib-inline in ./.venv/lib/python3.12/site-packages (from ipython>=6.1.0->ipywidgets) (0.1.7)\n",
      "Requirement already satisfied: prompt-toolkit<3.1.0,>=3.0.41 in ./.venv/lib/python3.12/site-packages (from ipython>=6.1.0->ipywidgets) (3.0.43)\n",
      "Requirement already satisfied: pygments>=2.4.0 in ./.venv/lib/python3.12/site-packages (from ipython>=6.1.0->ipywidgets) (2.18.0)\n",
      "Requirement already satisfied: stack-data in ./.venv/lib/python3.12/site-packages (from ipython>=6.1.0->ipywidgets) (0.6.3)\n",
      "Requirement already satisfied: pexpect>4.3 in ./.venv/lib/python3.12/site-packages (from ipython>=6.1.0->ipywidgets) (4.9.0)\n",
      "Requirement already satisfied: parso<0.9.0,>=0.8.3 in ./.venv/lib/python3.12/site-packages (from jedi>=0.16->ipython>=6.1.0->ipywidgets) (0.8.4)\n",
      "Requirement already satisfied: ptyprocess>=0.5 in ./.venv/lib/python3.12/site-packages (from pexpect>4.3->ipython>=6.1.0->ipywidgets) (0.7.0)\n",
      "Requirement already satisfied: wcwidth in ./.venv/lib/python3.12/site-packages (from prompt-toolkit<3.1.0,>=3.0.41->ipython>=6.1.0->ipywidgets) (0.2.13)\n",
      "Requirement already satisfied: executing>=1.2.0 in ./.venv/lib/python3.12/site-packages (from stack-data->ipython>=6.1.0->ipywidgets) (2.0.1)\n",
      "Requirement already satisfied: asttokens>=2.1.0 in ./.venv/lib/python3.12/site-packages (from stack-data->ipython>=6.1.0->ipywidgets) (2.4.1)\n",
      "Requirement already satisfied: pure-eval in ./.venv/lib/python3.12/site-packages (from stack-data->ipython>=6.1.0->ipywidgets) (0.2.2)\n",
      "Requirement already satisfied: six>=1.12.0 in ./.venv/lib/python3.12/site-packages (from asttokens>=2.1.0->stack-data->ipython>=6.1.0->ipywidgets) (1.16.0)\n",
      "Requirement already satisfied: pycryptodome in ./.venv/lib/python3.12/site-packages (3.20.0)\n"
     ]
    }
   ],
   "source": [
    "!pip install --upgrade ipywidgets\n",
    "!pip install pycryptodome"
   ]
  },
  {
   "cell_type": "code",
   "execution_count": 3,
   "metadata": {},
   "outputs": [
    {
     "data": {
      "application/vnd.jupyter.widget-view+json": {
       "model_id": "a35e99495dfe4fe486399fff954bb652",
       "version_major": 2,
       "version_minor": 0
      },
      "text/plain": [
       "Textarea(value='', description='Вхідний текст:', placeholder='Введіть текст для шифрування/розшифрування')"
      ]
     },
     "metadata": {},
     "output_type": "display_data"
    },
    {
     "data": {
      "application/vnd.jupyter.widget-view+json": {
       "model_id": "e8f0fa31d94141e4afaacc692f4697b2",
       "version_major": 2,
       "version_minor": 0
      },
      "text/plain": [
       "Dropdown(description='Алгоритм:', index=1, options=('AES', 'Base64', 'DES'), value='Base64')"
      ]
     },
     "metadata": {},
     "output_type": "display_data"
    },
    {
     "data": {
      "application/vnd.jupyter.widget-view+json": {
       "model_id": "a1d6289c772b426fab6b99a9e317fa7e",
       "version_major": 2,
       "version_minor": 0
      },
      "text/plain": [
       "Text(value='', description='Ключ:', placeholder='Введіть ключ (для AES та DES)')"
      ]
     },
     "metadata": {},
     "output_type": "display_data"
    },
    {
     "data": {
      "application/vnd.jupyter.widget-view+json": {
       "model_id": "e8c83a7a60c041b08d30b2b2eef897d7",
       "version_major": 2,
       "version_minor": 0
      },
      "text/plain": [
       "Label(value='Для AES (16 символів): 0123456789abcdef')"
      ]
     },
     "metadata": {},
     "output_type": "display_data"
    },
    {
     "data": {
      "application/vnd.jupyter.widget-view+json": {
       "model_id": "9bd4a80cf79a4c5d9474a5de0168cd87",
       "version_major": 2,
       "version_minor": 0
      },
      "text/plain": [
       "Label(value='Для DES (8 символів): secretke')"
      ]
     },
     "metadata": {},
     "output_type": "display_data"
    },
    {
     "data": {
      "application/vnd.jupyter.widget-view+json": {
       "model_id": "c3011168f21f4c40a693a2be21067861",
       "version_major": 2,
       "version_minor": 0
      },
      "text/plain": [
       "Button(button_style='success', description='Зашифрувати', icon='lock', style=ButtonStyle(), tooltip='Натисніть…"
      ]
     },
     "metadata": {},
     "output_type": "display_data"
    },
    {
     "data": {
      "application/vnd.jupyter.widget-view+json": {
       "model_id": "f58ebadba5104a2799f4bfa89ffbc0f2",
       "version_major": 2,
       "version_minor": 0
      },
      "text/plain": [
       "Button(button_style='danger', description='Розшифрувати', icon='unlock', style=ButtonStyle(), tooltip='Натисні…"
      ]
     },
     "metadata": {},
     "output_type": "display_data"
    },
    {
     "data": {
      "application/vnd.jupyter.widget-view+json": {
       "model_id": "16cbf394e51c4816b7b7bcf458006289",
       "version_major": 2,
       "version_minor": 0
      },
      "text/plain": [
       "Textarea(value='', description='Результат:', disabled=True, layout=Layout(height='100px', width='400px'), plac…"
      ]
     },
     "metadata": {},
     "output_type": "display_data"
    },
    {
     "data": {
      "application/vnd.jupyter.widget-view+json": {
       "model_id": "61f7d4c842794b17b4137e5d0ecbaabc",
       "version_major": 2,
       "version_minor": 0
      },
      "text/plain": [
       "Button(button_style='info', description='Зберегти результат', icon='save', style=ButtonStyle(), tooltip='Натис…"
      ]
     },
     "metadata": {},
     "output_type": "display_data"
    },
    {
     "name": "stdout",
     "output_type": "stream",
     "text": [
      "Результат збережено у файл 'result.txt'\n",
      "Результат збережено у файл 'result.txt'\n"
     ]
    }
   ],
   "source": [
    "from ipywidgets import widgets\n",
    "from IPython.display import display\n",
    "import base64\n",
    "from Crypto.Cipher import AES, DES\n",
    "from Crypto.Util.Padding import pad, unpad\n",
    "\n",
    "class Encryption:\n",
    "    def __init__(self):\n",
    "        self.algorithms = {\n",
    "            \"AES\": self.aes_encrypt,\n",
    "            \"Base64\": self.base64_encrypt,\n",
    "            \"DES\": self.des_encrypt\n",
    "        }\n",
    "        self.decryption_algorithms = {\n",
    "            \"AES\": self.aes_decrypt,\n",
    "            \"Base64\": self.base64_decrypt,\n",
    "            \"DES\": self.des_decrypt\n",
    "        }\n",
    "\n",
    "    def base64_encrypt(self, text):\n",
    "        return base64.b64encode(text.encode()).decode()\n",
    "\n",
    "    def base64_decrypt(self, text):\n",
    "        return base64.b64decode(text.encode()).decode()\n",
    "\n",
    "    def aes_encrypt(self, text, key):\n",
    "        cipher = AES.new(key.encode(), AES.MODE_ECB)\n",
    "        padded_text = pad(text.encode(), AES.block_size)\n",
    "        encrypted_text = cipher.encrypt(padded_text)\n",
    "        return encrypted_text.hex()\n",
    "\n",
    "    def aes_decrypt(self, text, key):\n",
    "        cipher = AES.new(key.encode(), AES.MODE_ECB)\n",
    "        encrypted_text = bytes.fromhex(text)\n",
    "        decrypted_text = cipher.decrypt(encrypted_text)\n",
    "        return unpad(decrypted_text, AES.block_size).decode()\n",
    "\n",
    "    def des_encrypt(self, text, key):\n",
    "        cipher = DES.new(key.encode(), DES.MODE_ECB)\n",
    "        padded_text = pad(text.encode(), DES.block_size)\n",
    "        encrypted_text = cipher.encrypt(padded_text)\n",
    "        return encrypted_text.hex()\n",
    "\n",
    "    def des_decrypt(self, text, key):\n",
    "        cipher = DES.new(key.encode(), DES.MODE_ECB)\n",
    "        encrypted_text = bytes.fromhex(text)\n",
    "        decrypted_text = cipher.decrypt(encrypted_text)\n",
    "        return unpad(decrypted_text, DES.block_size).decode()\n",
    "\n",
    "    def encrypt(self, text, algorithm, key=None):\n",
    "        if algorithm == \"Base64\":\n",
    "            return self.algorithms[algorithm](text)\n",
    "        else:\n",
    "            return self.algorithms[algorithm](text, key)\n",
    "\n",
    "    def decrypt(self, text, algorithm, key=None):\n",
    "        if algorithm == \"Base64\":\n",
    "            return self.decryption_algorithms[algorithm](text)\n",
    "        else:\n",
    "            return self.decryption_algorithms[algorithm](text, key)\n",
    "\n",
    "class EncryptionApp:\n",
    "    def __init__(self):\n",
    "        self.encryption = Encryption()\n",
    "        self.create_widgets()\n",
    "        self.display_widgets()\n",
    "\n",
    "    def create_widgets(self):\n",
    "        self.input_text = widgets.Textarea(\n",
    "            value='',\n",
    "            placeholder='Введіть текст для шифрування/розшифрування',\n",
    "            description='Вхідний текст:',\n",
    "            disabled=False\n",
    "        )\n",
    "\n",
    "        self.algorithm_dropdown = widgets.Dropdown(\n",
    "            options=list(self.encryption.algorithms.keys()),\n",
    "            value='Base64',\n",
    "            description='Алгоритм:',\n",
    "            disabled=False,\n",
    "        )\n",
    "\n",
    "        self.key_text = widgets.Text(\n",
    "            value='',\n",
    "            placeholder='Введіть ключ (для AES та DES)',\n",
    "            description='Ключ:',\n",
    "            disabled=False\n",
    "        )\n",
    "\n",
    "        self.encrypt_button = widgets.Button(\n",
    "            description='Зашифрувати',\n",
    "            disabled=False,\n",
    "            button_style='success',\n",
    "            tooltip='Натисніть, щоб зашифрувати текст',\n",
    "            icon='lock'\n",
    "        )\n",
    "        self.encrypt_button.on_click(self.encrypt_text)\n",
    "\n",
    "        self.decrypt_button = widgets.Button(\n",
    "            description='Розшифрувати',\n",
    "            disabled=False,\n",
    "            button_style='danger',\n",
    "            tooltip='Натисніть, щоб розшифрувати текст',\n",
    "            icon='unlock'\n",
    "        )\n",
    "        self.decrypt_button.on_click(self.decrypt_text)\n",
    "\n",
    "        self.output_text = widgets.Textarea(\n",
    "            value='',\n",
    "            placeholder='Зашифрований/розшифрований текст',\n",
    "            description='Результат:',\n",
    "            disabled=True,\n",
    "            layout=widgets.Layout(width='400px', height='100px')\n",
    "        )\n",
    "\n",
    "        self.save_button = widgets.Button(\n",
    "            description='Зберегти результат',\n",
    "            disabled=False,\n",
    "            button_style='info',\n",
    "            tooltip='Натисніть, щоб зберегти результат',\n",
    "            icon='save'\n",
    "        )\n",
    "        self.save_button.on_click(self.save_result)\n",
    "\n",
    "    def display_widgets(self):\n",
    "        display(self.input_text)\n",
    "        display(self.algorithm_dropdown)\n",
    "        display(self.key_text)\n",
    "        display(widgets.Label(\"Для AES (16 символів): 0123456789abcdef\"))\n",
    "        display(widgets.Label(\"Для DES (8 символів): secretke\"))\n",
    "        display(self.encrypt_button, self.decrypt_button)\n",
    "        display(self.output_text)\n",
    "        display(self.save_button)\n",
    "\n",
    "    def encrypt_text(self, b):\n",
    "        algorithm = self.algorithm_dropdown.value\n",
    "        text = self.input_text.value\n",
    "        key = self.key_text.value\n",
    "        if algorithm == \"Base64\":\n",
    "            key = None\n",
    "        encrypted_text = self.encryption.encrypt(text, algorithm, key)\n",
    "        self.output_text.value = encrypted_text\n",
    "\n",
    "    def decrypt_text(self, b):\n",
    "        algorithm = self.algorithm_dropdown.value\n",
    "        text = self.input_text.value\n",
    "        key = self.key_text.value\n",
    "        if algorithm == \"Base64\":\n",
    "            key = None\n",
    "        decrypted_text = self.encryption.decrypt(text, algorithm, key)\n",
    "        self.output_text.value = decrypted_text\n",
    "\n",
    "    def save_result(self, b):\n",
    "        algorithm = self.algorithm_dropdown.value\n",
    "        key = self.key_text.value\n",
    "        result = self.output_text.value\n",
    "        with open('result.txt', 'w') as file:\n",
    "            file.write(f\"Алгоритм: {algorithm}\\n\")\n",
    "            if algorithm != \"Base64\":\n",
    "                file.write(f\"Ключ: {key}\\n\")\n",
    "            file.write(f\"Результат: {result}\")\n",
    "        print(\"Результат збережено у файл 'result.txt'\")\n",
    "\n",
    "app = EncryptionApp()"
   ]
  }
 ],
 "metadata": {
  "kernelspec": {
   "display_name": "Python 3 (ipykernel)",
   "language": "python",
   "name": "python3"
  },
  "language_info": {
   "codemirror_mode": {
    "name": "ipython",
    "version": 3
   },
   "file_extension": ".py",
   "mimetype": "text/x-python",
   "name": "python",
   "nbconvert_exporter": "python",
   "pygments_lexer": "ipython3",
   "version": "3.12.3"
  }
 },
 "nbformat": 4,
 "nbformat_minor": 4
}
